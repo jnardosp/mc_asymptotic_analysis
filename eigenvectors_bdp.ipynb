{
 "cells": [
  {
   "cell_type": "markdown",
   "id": "f08633a8",
   "metadata": {},
   "source": [
    "## Flow Balance and B-D Processes\n",
    "\n",
    "An Birth-Death Process is a special case of continuous-time Markov process where the state transitions are of only 2 types \"births\" (increasing the state var by 1), and \"deaths\" (decreasing state by one).\n",
    "\n",
    "Our Markov Chain nxn transition matrix $P$ looks like this:\n",
    "$$\\begin{bmatrix}\n",
    "q & p & 0 & 0 & \\dots & 0 \\\\\n",
    "q & 0 & p & 0 & \\dots & 0 \\\\\n",
    "0 & q & 0 & p & \\dots & 0 \\\\\n",
    "0 & 0 & q & 0 & \\ddots & 0 \\\\\n",
    "\\vdots & \\vdots & \\vdots & \\ddots & \\ddots & p \\\\\n",
    "0 & 0 & 0 & 0 & q & p\n",
    "\\end{bmatrix}$$\n",
    "In this case we would have a discrete-time, finite-state BDP; or also a Nearest-Neighbor Random Walk (we will also see what happens when the walk is biased ($p\\neq q$).\n",
    "\n",
    "First we would like to prove that the stationary distribution $\\pi$ must satisfy the Detailed Balance property ($\\pi_{j}P_{ij}= \\pi_{j}P_{ji}$).\n",
    "\n",
    "Suppose $\\pi$ stationary distribution of $P$ transition matrix, because $\\pi$ is stationary we have that is invariant over P so:\n",
    "$$\\sum_{j=1}^{N}\\pi_{j}P_{ji}=\\pi_{i}$$\n",
    "\n",
    "Since our $P$ matrix is tridiagonal and $P_{ii}=0$ for all $i\\neq 1,n$ we would have for internal states:\n",
    "$$\\pi_{i}=\\pi_{i-1}P_{i-1,i}+\\pi_{i+1,i}P_{i+1,i}$$\n",
    "\n",
    "Using that $P_{i-1,i}=p$ and $P_{i+1,i}=q$:\n",
    "$$\\pi_{i}=\\pi_{i-1}p+\\pi_{i+1,i}q$$\n",
    "\n",
    "We have that the row sum for all internal states is 1 so $P_{i-1,i}+P_{i+1,i}=1$:\n",
    "$$\\pi_{i}(P_{i-1,i}+P_{i+1,i})=\\pi_{i-1}p+\\pi_{i+1,i}q$$\n",
    "\n",
    "We rearrange the terms to see the probability flow between adjacent boundaries:\n",
    "$$\\pi_{i}P_{i-1,i}-\\pi_{i-1}P_{i-1,i}=\\pi_{i+1,i}P_{i+1,i}-\\pi_{i}P_{i+1,i}$$\n"
   ]
  }
 ],
 "metadata": {
  "language_info": {
   "name": "python"
  }
 },
 "nbformat": 4,
 "nbformat_minor": 5
}
