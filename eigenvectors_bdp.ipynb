{
 "cells": [
  {
   "cell_type": "markdown",
   "id": "f08633a8",
   "metadata": {},
   "source": [
    "## Flow Balance and B-D Processes\n",
    "\n",
    "An Birth-Death Process is a special case of continuous-time Markov process where the state transitions are of only 2 types \"births\" (increasing the state var by 1), and \"deaths\" (decreasing state by one).\n",
    "\n",
    "In this case we would have a discrete-time, finite-state BDP; or also a Nearest-Neighbor Random Walk (we will also see what happens when the walk is biased ($p\\neq q$).\n",
    "\n",
    "First we would like to prove that the stationary distribution $\\pi$ must satisfy the Detailed Balance property ($\\pi_{j}P_{ij}= \\pi_{j}P_{ji}$)."
   ]
  }
 ],
 "metadata": {
  "language_info": {
   "name": "python"
  }
 },
 "nbformat": 4,
 "nbformat_minor": 5
}
