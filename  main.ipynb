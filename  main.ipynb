{
 "cells": [
  {
   "cell_type": "markdown",
   "id": "fcd9e96e",
   "metadata": {},
   "source": [
    "## Tarea_0 ¿Qué es más eficiente para calcular la distribución estacionaria?"
   ]
  },
  {
   "cell_type": "markdown",
   "id": "35e7e701",
   "metadata": {},
   "source": [
    "### Encontrar vector propio ($\\pi$) de la matriz de transición ($P$) de la CM"
   ]
  },
  {
   "cell_type": "code",
   "execution_count": null,
   "id": "20463bdc",
   "metadata": {
    "vscode": {
     "languageId": "plaintext"
    }
   },
   "outputs": [],
   "source": []
  },
  {
   "cell_type": "markdown",
   "id": "fda208fc",
   "metadata": {},
   "source": [
    "### Usar la función recursiva para encontrar $r_{j}=E_{i}\\left[T_{j}^{+}\\right]$ componentes de $\\pi$"
   ]
  },
  {
   "cell_type": "code",
   "execution_count": null,
   "id": "0ea610e1",
   "metadata": {
    "vscode": {
     "languageId": "plaintext"
    }
   },
   "outputs": [],
   "source": []
  }
 ],
 "metadata": {
  "language_info": {
   "name": "python"
  }
 },
 "nbformat": 4,
 "nbformat_minor": 5
}
